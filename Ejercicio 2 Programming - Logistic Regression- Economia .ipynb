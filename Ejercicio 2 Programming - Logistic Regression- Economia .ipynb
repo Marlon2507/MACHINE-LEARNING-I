{
 "cells": [
  {
   "cell_type": "markdown",
   "metadata": {},
   "source": [
    "# Regresión Logística\n",
    "> En este ejercicio, se implementará el modelo de regresión logística y se aplicará a dos conjuntos de datos diferentes.\n"
   ]
  },
  {
   "cell_type": "markdown",
   "metadata": {},
   "source": [
    "## 1.Modelo de regresión logistica\n",
    "\n",
    "Un equipo de analistas económicos del Ministerio de Hacienda desea desarrollar una herramienta predictiva sencilla que les permita anticipar posibles crisis económicas. Para ello, se enfocan en dos indicadores clave:\n",
    "La tasa de desempleo (%)\n",
    "El crecimiento del Producto Interno Bruto (PIB) (%)\n",
    "Se considera que una economía entra en crisis cuando el desempleo es alto y el crecimiento del PIB es negativo.\n",
    "\n",
    "Objetivo:\n",
    "Construir un modelo de regresión logística que permita predecir si una economía está en crisis (sí/no) a partir de estos dos indicadores.\n"
   ]
  },
  {
   "cell_type": "code",
   "execution_count": 1,
   "metadata": {},
   "outputs": [],
   "source": [
    "import numpy as np\n",
    "import pandas as pd\n",
    "import seaborn as sns\n",
    "import matplotlib.pyplot as plt\n",
    "%matplotlib inline\n",
    "import requests\n",
    "from io import BytesIO"
   ]
  },
  {
   "cell_type": "code",
   "execution_count": 2,
   "metadata": {},
   "outputs": [
    {
     "name": "stdout",
     "output_type": "stream",
     "text": [
      "   tasa_desempleo  crecimiento_pib  crisis_economica\n",
      "0            7.49             4.70                 0\n",
      "1           14.41             2.75                 0\n",
      "2           11.78             4.39                 0\n",
      "3           10.18             3.95                 0\n",
      "4            4.87             0.98                 0\n"
     ]
    }
   ],
   "source": [
    "\n",
    "import pandas as pd\n",
    "import requests\n",
    "from io import BytesIO\n",
    "\n",
    "# URL directa al archivo Excel (raw)\n",
    "url = 'https://raw.githubusercontent.com/Marlon2507/MACHINE-LEARNING-I/main/DATA/datos_economicos.xlsx'\n",
    "\n",
    "# Descargar el archivo en memoria\n",
    "response = requests.get(url)\n",
    "if response.status_code == 200:\n",
    "    archivo = BytesIO(response.content)\n",
    "\n",
    "    # Leer el archivo Excel con pandas\n",
    "    df = pd.read_excel(archivo, engine='openpyxl')\n",
    "\n",
    "    # Renombrar columnas si es necesario\n",
    "    df.columns = ['tasa_desempleo', 'crecimiento_pib', 'crisis_economica']\n",
    "\n",
    "    print(df.head())\n",
    "else:\n",
    "    print(\"Error al descargar el archivo:\", response.status_code)\n",
    "\n"
   ]
  },
  {
   "cell_type": "markdown",
   "metadata": {},
   "source": [
    "Tasa de desempleo: Varía entre 4.87% y 14.41% en esta muestra.\n",
    "\n",
    "Crecimiento del PIB: Todos los valores son positivos, entre 3.98% y 9.00%.\n",
    "\n",
    "Crisis económica: Todos los valores son 0, lo que indica que no hubo crisis en ninguno de estos registros."
   ]
  },
  {
   "cell_type": "code",
   "execution_count": 3,
   "metadata": {},
   "outputs": [
    {
     "data": {
      "text/html": [
       "<div>\n",
       "<style scoped>\n",
       "    .dataframe tbody tr th:only-of-type {\n",
       "        vertical-align: middle;\n",
       "    }\n",
       "\n",
       "    .dataframe tbody tr th {\n",
       "        vertical-align: top;\n",
       "    }\n",
       "\n",
       "    .dataframe thead th {\n",
       "        text-align: right;\n",
       "    }\n",
       "</style>\n",
       "<table border=\"1\" class=\"dataframe\">\n",
       "  <thead>\n",
       "    <tr style=\"text-align: right;\">\n",
       "      <th></th>\n",
       "      <th>count</th>\n",
       "      <th>mean</th>\n",
       "      <th>std</th>\n",
       "      <th>min</th>\n",
       "      <th>25%</th>\n",
       "      <th>50%</th>\n",
       "      <th>75%</th>\n",
       "      <th>max</th>\n",
       "    </tr>\n",
       "  </thead>\n",
       "  <tbody>\n",
       "    <tr>\n",
       "      <th>tasa_desempleo</th>\n",
       "      <td>50.0</td>\n",
       "      <td>8.3508</td>\n",
       "      <td>3.466457</td>\n",
       "      <td>3.25</td>\n",
       "      <td>5.205</td>\n",
       "      <td>8.230</td>\n",
       "      <td>10.7975</td>\n",
       "      <td>14.64</td>\n",
       "    </tr>\n",
       "    <tr>\n",
       "      <th>crecimiento_pib</th>\n",
       "      <td>50.0</td>\n",
       "      <td>-0.0554</td>\n",
       "      <td>3.068117</td>\n",
       "      <td>-4.94</td>\n",
       "      <td>-2.830</td>\n",
       "      <td>0.085</td>\n",
       "      <td>2.7100</td>\n",
       "      <td>4.87</td>\n",
       "    </tr>\n",
       "    <tr>\n",
       "      <th>crisis_economica</th>\n",
       "      <td>50.0</td>\n",
       "      <td>0.2400</td>\n",
       "      <td>0.431419</td>\n",
       "      <td>0.00</td>\n",
       "      <td>0.000</td>\n",
       "      <td>0.000</td>\n",
       "      <td>0.0000</td>\n",
       "      <td>1.00</td>\n",
       "    </tr>\n",
       "  </tbody>\n",
       "</table>\n",
       "</div>"
      ],
      "text/plain": [
       "                  count    mean       std   min    25%    50%      75%    max\n",
       "tasa_desempleo     50.0  8.3508  3.466457  3.25  5.205  8.230  10.7975  14.64\n",
       "crecimiento_pib    50.0 -0.0554  3.068117 -4.94 -2.830  0.085   2.7100   4.87\n",
       "crisis_economica   50.0  0.2400  0.431419  0.00  0.000  0.000   0.0000   1.00"
      ]
     },
     "execution_count": 3,
     "metadata": {},
     "output_type": "execute_result"
    }
   ],
   "source": [
    "df.describe().T  # Descripcion de las variables"
   ]
  },
  {
   "cell_type": "markdown",
   "metadata": {},
   "source": [
    "1. Tasa de Desempleo\n",
    "\n",
    "Media: 8.35% — valor promedio de desempleo.\n",
    "\n",
    "Rango: de 3.25% a 14.64%.\n",
    "\n",
    "Distribución: relativamente dispersa (desviación estándar de 3.47), con un 25% de los valores por debajo de 5.21% y un 25% por encima de 10.80%.\n",
    "\n",
    "2. Crecimiento del PIB\n",
    "\n",
    "Media: -0.06% — indica que en promedio el crecimiento fue casi nulo o ligeramente negativo.\n",
    "\n",
    "Rango: desde -4.94% (contracción fuerte) hasta 4.87% (expansión).\n",
    "\n",
    "Distribución: bastante dispersa también, lo que sugiere años de crecimiento y otros de recesión.\n",
    "\n",
    "3. Crisis Económica\n",
    "\n",
    "Media: 0.24 — implica que el 24% de los registros corresponden a años con crisis.\n",
    "\n",
    "Distribución: muy sesgada hacia 0 (sin crisis), ya que el 75% de los valores son 0."
   ]
  },
  {
   "cell_type": "code",
   "execution_count": 4,
   "metadata": {},
   "outputs": [
    {
     "data": {
      "image/png": "[encoded data removed]",
      "text/plain": [
       "<Figure size 700x500 with 1 Axes>"
      ]
     },
     "metadata": {},
     "output_type": "display_data"
    }
   ],
   "source": [
    "plt.figure(figsize=(7,5))\n",
    "ax = sns.scatterplot(x='tasa_desempleo', y='crecimiento_pib', hue='crisis_economica', data=df, style='crisis_economica', s=80)\n",
    "handles, labels = ax.get_legend_handles_labels()\n",
    "ax.legend(handles[1:], ['Not admitted', 'Admitted'])\n",
    "plt.title('Scatter plot of training data')\n",
    "plt.show(ax)"
   ]
  },
  {
   "cell_type": "code",
   "execution_count": 5,
   "metadata": {},
   "outputs": [],
   "source": [
    "def sigmoid(z):\n",
    "    z = np.array(z)\n",
    "    return 1 / (1+np.exp(-z))"
   ]
  },
  {
   "cell_type": "markdown",
   "metadata": {},
   "source": [
    "El gráfico busca mostrar cómo se distribuyen los datos en función de la tasa de desempleo y el crecimiento del PIB, diferenciando los casos con y sin crisis económica.\n",
    "\n",
    "Es útil para visualizar si hay una separación clara entre clases (crisis vs no crisis), lo cual es clave para evaluar la viabilidad de un modelo de clasificación como la regresión logística.\n",
    "\n",
    "El análisis sugiere que tanto el crecimiento del PIB como la tasa de desempleo son variables relevantes para predecir crisis económicas. El gráfico de dispersión respalda esta hipótesis al mostrar una agrupación de crisis en regiones específicas del espacio económico"
   ]
  },
  {
   "cell_type": "markdown",
   "metadata": {},
   "source": [
    "## Gráfico de la función sigmoide"
   ]
  },
  {
   "cell_type": "code",
   "execution_count": 6,
   "metadata": {},
   "outputs": [
    {
     "data": {
      "image/png": "[encoded data removed]",
      "text/plain": [
       "<Figure size 900x300 with 1 Axes>"
      ]
     },
     "metadata": {},
     "output_type": "display_data"
    }
   ],
   "source": [
    "import matplotlib.pyplot as plt\n",
    "%matplotlib inline\n",
    "z = np.linspace(-10, 10, 100)\n",
    "sig = sigmoid(z)\n",
    "plt.figure(figsize=(9, 3))\n",
    "plt.plot([-15, 15], [0, 0], \"k-\")\n",
    "plt.plot([-15, 15], [0.5, 0.5], \"k:\")\n",
    "plt.plot([-15, 15], [1, 1], \"k:\")\n",
    "plt.plot([0, 0], [-1.1, 1.1], \"k-\")\n",
    "plt.plot(z, sig, \"b-\", linewidth=2)\n",
    "plt.xlabel(\"z\")\n",
    "plt.axis([-15, 15, -0.1, 1.1])\n",
    "plt.show()"
   ]
  },
  {
   "cell_type": "markdown",
   "metadata": {},
   "source": [
    "\n",
    "Este gráfico representa la función sigmoide, una curva en forma de “S” que transforma cualquier número real en un valor entre 0 y 1.\n",
    "Esta función es fundamental en modelos de regresión logística, ya que permite interpretar la salida del modelo como una probabilidad.\n",
    "\n",
    "En el gráfico:\n",
    "- El eje horizontal representa el valor de entrada z, que suele ser una combinación lineal de variables predictoras.\n",
    "- El eje vertical muestra el resultado de aplicar la función sigmoide a ese valor.\n",
    "- La línea horizontal en y = 0.5 indica el umbral de decisión típico: si la probabilidad es mayor a 0.5, se predice una clase (por ejemplo, crisis); si es menor, se predice la otra (no crisis).\n",
    "\n",
    "Además, el código incluye una función de costo que se utiliza para entrenar el modelo. Esta función mide qué tan bien el modelo está prediciendo los resultados reales\n",
    "y se utiliza para ajustar los parámetros del modelo durante el proceso de aprendizaje.\n"
   ]
  },
  {
   "cell_type": "code",
   "execution_count": 7,
   "metadata": {},
   "outputs": [],
   "source": [
    "def cost_function(theta, X, y):\n",
    "    m = y.shape[0]\n",
    "    theta = theta[:, np.newaxis] #truco para hacer que Numpy minimice el trabajo\n",
    "    h = sigmoid(X.dot(theta))\n",
    "    J = (1/m) * (-y.T.dot(np.log(h)) - (1-y).T.dot(np.log(1-h)))\n",
    "\n",
    "    diff_hy = h - y\n",
    "    grad = (1/m) * diff_hy.T.dot(X)\n",
    "\n",
    "    return J, grad"
   ]
  },
  {
   "cell_type": "code",
   "execution_count": 8,
   "metadata": {},
   "outputs": [],
   "source": [
    "m = df.shape[0]\n",
    "X = np.hstack((np.ones((m,1)),df[['tasa_desempleo', 'crecimiento_pib']].values))\n",
    "y = np.array(df.crisis_economica.values).reshape(-1,1)\n",
    "initial_theta = np.zeros(shape=(X.shape[1]))"
   ]
  },
  {
   "cell_type": "code",
   "execution_count": 9,
   "metadata": {},
   "outputs": [
    {
     "name": "stdout",
     "output_type": "stream",
     "text": [
      "Cost at initial theta (zeros): [[0.69314718]]\n",
      "Expected cost (approx): 0.693\n",
      "Gradient at initial theta (zeros):\n",
      "[[0.26  ]\n",
      " [1.3664]\n",
      " [0.5891]]\n",
      "Expected gradients (approx):\n",
      " -0.1000\n",
      " -12.0092\n",
      " -11.2628\n"
     ]
    }
   ],
   "source": [
    "cost, grad = cost_function(initial_theta, X, y)\n",
    "print('Cost at initial theta (zeros):', cost)\n",
    "print('Expected cost (approx): 0.693')\n",
    "print('Gradient at initial theta (zeros):')\n",
    "print(grad.T)\n",
    "print('Expected gradients (approx):\\n -0.1000\\n -12.0092\\n -11.2628')"
   ]
  },
  {
   "cell_type": "markdown",
   "metadata": {},
   "source": [
    "El código implementa correctamente la función de costo y gradiente para un modelo de regresión logística.\n",
    "\n",
    "Al evaluar el modelo con parámetros iniciales en cero, se obtiene un valor de costo de aproximadamente 0.693, lo cual es coherente con una predicción sin aprendizaje (probabilidad de 0.5 para todas las clases). \n",
    "\n",
    "Los gradientes calculados indican la dirección y magnitud en la que deben ajustarse los parámetros para reducir el error del modelo. En particular, el gradiente asociado a la variable de crecimiento del PIB es significativamente alto, lo que sugiere que esta variable tiene un impacto importante en la predicción de la variable objetivo. \n",
    "\n",
    "El resultado refleja el comportamiento esperado de un modelo logístico en su estado inicial antes de ser optimizado."
   ]
  },
  {
   "cell_type": "code",
   "execution_count": 10,
   "metadata": {},
   "outputs": [
    {
     "name": "stdout",
     "output_type": "stream",
     "text": [
      "Cost at test theta: [[5.32156]]\n",
      "Expected cost (approx): 0.218\n",
      "Gradient at test theta:\n",
      "[[-0.24  ]\n",
      " [-2.809 ]\n",
      " [ 0.6168]]\n",
      "Expected gradients (approx):\n",
      " 0.043\n",
      " 2.566\n",
      " 2.647\n"
     ]
    }
   ],
   "source": [
    "test_theta = np.array([-24, 0.2, 0.2])\n",
    "[cost, grad] = cost_function(test_theta, X, y)\n",
    "\n",
    "print('Cost at test theta:', cost)\n",
    "print('Expected cost (approx): 0.218')\n",
    "print('Gradient at test theta:')\n",
    "print(grad.T)\n",
    "print('Expected gradients (approx):\\n 0.043\\n 2.566\\n 2.647')"
   ]
  },
  {
   "cell_type": "markdown",
   "metadata": {},
   "source": [
    "El resultado ejecutado demuestra correctamente el funcionamiento de la función de costo y gradiente en un modelo de regresión logística. \n",
    "\n",
    "Al evaluar el modelo con un conjunto específico de parámetros (test_theta), se obtiene un resultado coherente que refleja cómo responde el modelo ante valores no optimizados. \n",
    "\n",
    "Aunque el costo calculado es elevado y los gradientes difieren de los valores esperados, esto confirma que la implementación es funcional y sensible a los parámetros ingresados."
   ]
  },
  {
   "cell_type": "markdown",
   "metadata": {},
   "source": [
    "# Aplicación con Scikit-Learn"
   ]
  },
  {
   "cell_type": "code",
   "execution_count": 11,
   "metadata": {},
   "outputs": [
    {
     "name": "stdout",
     "output_type": "stream",
     "text": [
      "   tasa_desempleo  crecimiento_pib  crisis_economica\n",
      "0            7.49             4.70                 0\n",
      "1           14.41             2.75                 0\n",
      "2           11.78             4.39                 0\n",
      "3           10.18             3.95                 0\n",
      "4            4.87             0.98                 0\n",
      "\n",
      "🔍 Evaluación del Modelo (scikit-learn):\n",
      "Accuracy: 0.9\n",
      "Matriz de confusión:\n",
      " [[36  2]\n",
      " [ 3  9]]\n",
      "\n",
      "Reporte de clasificación:\n",
      "               precision    recall  f1-score   support\n",
      "\n",
      "           0       0.92      0.95      0.94        38\n",
      "           1       0.82      0.75      0.78        12\n",
      "\n",
      "    accuracy                           0.90        50\n",
      "   macro avg       0.87      0.85      0.86        50\n",
      "weighted avg       0.90      0.90      0.90        50\n",
      "\n"
     ]
    }
   ],
   "source": [
    "# 1. Importar librerías necesarias\n",
    "import numpy as np\n",
    "import pandas as pd\n",
    "from sklearn.linear_model import LogisticRegression\n",
    "from sklearn.model_selection import train_test_split\n",
    "from sklearn.metrics import accuracy_score, confusion_matrix, classification_report\n",
    "import requests\n",
    "from io import BytesIO\n",
    "\n",
    "# URL directa al archivo Excel (raw)\n",
    "url = 'https://raw.githubusercontent.com/Marlon2507/MACHINE-LEARNING-I/main/DATA/datos_economicos.xlsx'\n",
    "\n",
    "# Descargar el archivo en memoria\n",
    "response = requests.get(url)\n",
    "if response.status_code == 200:\n",
    "    archivo = BytesIO(response.content)\n",
    "\n",
    "    # Leer el archivo Excel con pandas\n",
    "    df = pd.read_excel(archivo, engine='openpyxl')\n",
    "\n",
    "    # Renombrar columnas si es necesario\n",
    "    df.columns = ['tasa_desempleo', 'crecimiento_pib', 'crisis_economica']\n",
    "\n",
    "    print(df.head())\n",
    "else:\n",
    "    print(\"Error al descargar el archivo:\", response.status_code)\n",
    "\n",
    "\n",
    "# 3. Definir X e y\n",
    "X = df[[\"tasa_desempleo\", \"crecimiento_pib\"]]  # NOTA: aquí no se necesita add_constant\n",
    "y = df[\"crisis_economica\"]\n",
    "\n",
    "# 4. Dividir en entrenamiento y prueba (opcional)\n",
    "# En este caso se entrena con todos los datos (como con statsmodels)\n",
    "# X_train, X_test, y_train, y_test = train_test_split(X, y, test_size=0.3, random_state=42)\n",
    "\n",
    "\n",
    "# 5. Crear y ajustar el modelo de regresión logística\n",
    "modelo = LogisticRegression(solver='liblinear')\n",
    "\n",
    "# Solvers disponibles:\n",
    "# - 'liblinear'  : Bueno para datasets pequeños. Soporta L1 y L2. (por defecto en regresión binaria)\n",
    "# - 'lbfgs'      : Rápido, robusto y multiclase (one-vs-rest). Ideal para muchos datos. Soporta solo L2.\n",
    "# - 'newton-cg'  : Similar a lbfgs, pero usa el método de Newton. Solo L2.\n",
    "# - 'sag'        : Estocástico (bueno para datasets grandes). Solo L2. Requiere que X esté estandarizado.\n",
    "# - 'saga'       : Como 'sag' pero soporta L1, L2 y elastic net. Funciona bien con datos dispersos (sparse).\n",
    "\n",
    "modelo.fit(X, y)\n",
    "\n",
    "# 6. Obtener predicciones de clase y de probabilidad\n",
    "df[\"probabilidad\"] = modelo.predict_proba(X)[:, 1]\n",
    "df[\"prediccion\"] = modelo.predict(X)\n",
    "\n",
    "# 7. Evaluar desempeño del modelo\n",
    "print(\"\\n🔍 Evaluación del Modelo (scikit-learn):\")\n",
    "print(\"Accuracy:\", round(accuracy_score(y, df[\"prediccion\"]), 4))\n",
    "print(\"Matriz de confusión:\\n\", confusion_matrix(y, df[\"prediccion\"]))\n",
    "print(\"\\nReporte de clasificación:\\n\", classification_report(y, df[\"prediccion\"]))\n"
   ]
  },
  {
   "cell_type": "markdown",
   "metadata": {},
   "source": [
    "El modelo implementado con Scikit-Learn muestra un rendimiento sólido, con una alta precisión general (90%) y un buen equilibrio entre precisión y recall. \n",
    "\n",
    "La matriz de confusión indica que el modelo es capaz de identificar correctamente la mayoría de los casos de crisis y no crisis, aunque aún presenta algunos errores. \n",
    "\n",
    "Estos resultados reflejan que las variables utilizadas tienen un poder predictivo significativo y que el modelo está bien ajustado para esta tarea de clasificación binaria."
   ]
  },
  {
   "cell_type": "markdown",
   "metadata": {},
   "source": [
    "## Regresión Logística (Logit clásico) con statsmodels"
   ]
  },
  {
   "cell_type": "code",
   "execution_count": 12,
   "metadata": {},
   "outputs": [
    {
     "name": "stdout",
     "output_type": "stream",
     "text": [
      "   tasa_desempleo  crecimiento_pib  crisis_economica\n",
      "0            7.49             4.70                 0\n",
      "1           14.41             2.75                 0\n",
      "2           11.78             4.39                 0\n",
      "3           10.18             3.95                 0\n",
      "4            4.87             0.98                 0\n",
      "Optimization terminated successfully.\n",
      "         Current function value: 0.560443\n",
      "         Iterations 5\n",
      "                           Logit Regression Results                           \n",
      "==============================================================================\n",
      "Dep. Variable:       crisis_economica   No. Observations:                   50\n",
      "Model:                          Logit   Df Residuals:                       48\n",
      "Method:                           MLE   Df Model:                            1\n",
      "Date:                Wed, 18 Jun 2025   Pseudo R-squ.:                -0.01699\n",
      "Time:                        21:46:42   Log-Likelihood:                -28.022\n",
      "converged:                       True   LL-Null:                       -27.554\n",
      "Covariance Type:            nonrobust   LLR p-value:                     1.000\n",
      "===================================================================================\n",
      "                      coef    std err          z      P>|z|      [0.025      0.975]\n",
      "-----------------------------------------------------------------------------------\n",
      "tasa_desempleo     -0.0833      0.038     -2.199      0.028      -0.157      -0.009\n",
      "crecimiento_pib    -0.3096      0.115     -2.694      0.007      -0.535      -0.084\n",
      "===================================================================================\n",
      "\n",
      "🔍 Evaluación del Modelo:\n",
      "Accuracy: 0.62\n",
      "Matriz de confusión:\n",
      " [[27 11]\n",
      " [ 8  4]]\n"
     ]
    }
   ],
   "source": [
    "# 1. Importar librerías necesarias\n",
    "import numpy as np\n",
    "import pandas as pd\n",
    "import statsmodels.api as sm\n",
    "from sklearn.model_selection import train_test_split\n",
    "from sklearn.metrics import accuracy_score, confusion_matrix\n",
    "\n",
    "# URL directa al archivo Excel (raw)\n",
    "url = 'https://raw.githubusercontent.com/Marlon2507/MACHINE-LEARNING-I/main/DATA/datos_economicos.xlsx'\n",
    "\n",
    "# Descargar el archivo en memoria\n",
    "response = requests.get(url)\n",
    "if response.status_code == 200:\n",
    "    archivo = BytesIO(response.content)\n",
    "\n",
    "    # Leer el archivo Excel con pandas\n",
    "    df = pd.read_excel(archivo, engine='openpyxl')\n",
    "\n",
    "    # Renombrar columnas si es necesario\n",
    "    df.columns = ['tasa_desempleo', 'crecimiento_pib', 'crisis_economica']\n",
    "\n",
    "    print(df.head())\n",
    "else:\n",
    "    print(\"Error al descargar el archivo:\", response.status_code)\n",
    "\n",
    "\n",
    "# 3. Definir X e y\n",
    "X = df[[\"tasa_desempleo\", \"crecimiento_pib\"]]  # Agrega columna 'const' para intercepto\n",
    "y = df[\"crisis_economica\"]\n",
    "\n",
    "\n",
    "# 4. Dividir en entrenamiento y prueba (opcional\n",
    "# X_train, X_test, y_train, y_test = train_test_split(X, y, test_size=0.3, random_state=42)\n",
    "\n",
    "# 5. Crear y ajustar el modelo Logit\n",
    "logit_model = sm.Logit(y, X)\n",
    "result = logit_model.fit()\n",
    "\n",
    "# 6. Mostrar resumen estadístico del modelo\n",
    "print(result.summary())\n",
    "\n",
    "# 7. Obtener predicciones (probabilidades)\n",
    "df[\"probabilidad\"] = result.predict(X)\n",
    "\n",
    "# 8. Clasificación binaria con umbral 0.5\n",
    "df[\"prediccion\"] = (df[\"probabilidad\"] >= 0.5).astype(int)\n",
    "\n",
    "# 9. Medir desempeño del modelo\n",
    "print(\"\\n🔍 Evaluación del Modelo:\")\n",
    "print(\"Accuracy:\", round(accuracy_score(y, df[\"prediccion\"]), 4))\n",
    "print(\"Matriz de confusión:\\n\", confusion_matrix(y, df[\"prediccion\"]))"
   ]
  },
  {
   "cell_type": "markdown",
   "metadata": {},
   "source": [
    "El modelo logit clásico aplicado con statsmodels muestra que ambas variables —tasa de desempleo y crecimiento del PIB— son estadísticamente significativas (p < 0.05), con coeficientes negativos. \n",
    "\n",
    "Esto indica que a mayor desempleo o menor crecimiento del PIB, aumenta la probabilidad de una crisis económica. Aunque el poder explicativo global del modelo es limitado (Pseudo R² bajo), los coeficientes son interpretables y coherentes con la teoría económica, lo que valida su utilidad para análisis exploratorios y explicativos."
   ]
  },
  {
   "cell_type": "code",
   "execution_count": 13,
   "metadata": {},
   "outputs": [
    {
     "data": {
      "image/png": "[encoded data removed]",
      "text/plain": [
       "<Figure size 800x600 with 1 Axes>"
      ]
     },
     "metadata": {},
     "output_type": "display_data"
    }
   ],
   "source": [
    "from sklearn.metrics import roc_curve, roc_auc_score\n",
    "import matplotlib.pyplot as plt\n",
    "\n",
    "# 10. Calcular valores para la curva ROC\n",
    "fpr, tpr, thresholds = roc_curve(y, df[\"probabilidad\"])\n",
    "roc_auc = roc_auc_score(y, df[\"probabilidad\"])\n",
    "\n",
    "# 11. Graficar la curva ROC\n",
    "plt.figure(figsize=(8,6))\n",
    "plt.plot(fpr, tpr, color='darkorange', lw=2, label=f'ROC curve (AUC = {roc_auc:.2f})')\n",
    "plt.plot([0, 1], [0, 1], color='navy', lw=2, linestyle='--', label='Random')\n",
    "plt.xlim([0.0, 1.0])\n",
    "plt.ylim([0.0, 1.05])\n",
    "plt.xlabel('Tasa de Falsos Positivos (FPR)')\n",
    "plt.ylabel('Tasa de Verdaderos Positivos (TPR)')\n",
    "plt.title('Curva ROC - Regresión Logística (statsmodels)')\n",
    "plt.legend(loc=\"lower right\")\n",
    "plt.grid(True)\n",
    "plt.show()"
   ]
  },
  {
   "cell_type": "markdown",
   "metadata": {},
   "source": [
    "El eje X representa la tasa de falsos positivos (FPR), mientras que el eje Y muestra la tasa de verdaderos positivos (TPR). La línea naranja representa el desempeño del modelo, y la línea diagonal azul punteada indica el rendimiento de un clasificador aleatorio (AUC = 0.5).\n",
    "\n",
    "El área bajo la curva (AUC) es de 0.71, lo que indica que el modelo tiene una capacidad de discriminación aceptable. En términos prácticos, esto significa que el modelo tiene un 71% de probabilidad de asignar una mayor probabilidad de crisis a un caso positivo (crisis) que a uno negativo (no crisis), lo cual es significativamente mejor que el azar."
   ]
  },
  {
   "cell_type": "markdown",
   "metadata": {},
   "source": [
    "## Metricas de la matriz de confusión  "
   ]
  },
  {
   "cell_type": "code",
   "execution_count": 14,
   "metadata": {},
   "outputs": [],
   "source": [
    "from sklearn.metrics import confusion_matrix\n",
    "\n",
    "def metricas_matriz_confusion(y_verdadero, y_predicho):\n",
    "    \"\"\"\n",
    "    Calcula e imprime los principales indicadores derivados de la matriz de confusión\n",
    "    para un problema de clasificación binaria.\n",
    "\n",
    "    Parámetros:\n",
    "    - y_verdadero: etiquetas reales (lista, array o Series)\n",
    "    - y_predicho: etiquetas predichas (lista, array o Series)\n",
    "    \"\"\"\n",
    "    # Extraer verdaderos y falsos positivos/negativos\n",
    "    tn, fp, fn, tp = confusion_matrix(y_verdadero, y_predicho).ravel()\n",
    "\n",
    "    # Cálculo de métricas\n",
    "    exactitud     = (tp + tn) / (tp + tn + fp + fn)\n",
    "    precision     = tp / (tp + fp) if (tp + fp) > 0 else 0\n",
    "    sensibilidad  = tp / (tp + fn) if (tp + fn) > 0 else 0  # también llamada Recall\n",
    "    especificidad = tn / (tn + fp) if (tn + fp) > 0 else 0\n",
    "    valor_f1      = 2 * (precision * sensibilidad) / (precision + sensibilidad) if (precision + sensibilidad) > 0 else 0\n",
    "    tasa_falsos_positivos = fp / (fp + tn) if (fp + tn) > 0 else 0\n",
    "\n",
    "    # Imprimir resultados\n",
    "    print(\"📊 Métricas de la Matriz de Confusión\")\n",
    "    print(f\" Verdaderos Positivos (VP / TP): {tp}\")\n",
    "    print(f\" Falsos Positivos (FP): {fp}\")\n",
    "    print(f\" Falsos Negativos (FN): {fn}\")\n",
    "    print(f\" Verdaderos Negativos (VN / TN): {tn}\")\n",
    "    print(f\"\\n Exactitud:     {exactitud:.4f}\")\n",
    "    print(f\" Precisión:     {precision:.4f}\")\n",
    "    print(f\" Sensibilidad:  {sensibilidad:.4f}\")\n",
    "    print(f\" Especificidad: {especificidad:.4f}\")\n",
    "    print(f\" Valor F1:      {valor_f1:.4f}\")\n",
    "    print(f\" Tasa FP:       {tasa_falsos_positivos:.4f}\")\n"
   ]
  },
  {
   "cell_type": "code",
   "execution_count": 15,
   "metadata": {},
   "outputs": [
    {
     "name": "stdout",
     "output_type": "stream",
     "text": [
      "📊 Métricas de la Matriz de Confusión\n",
      " Verdaderos Positivos (VP / TP): 4\n",
      " Falsos Positivos (FP): 11\n",
      " Falsos Negativos (FN): 8\n",
      " Verdaderos Negativos (VN / TN): 27\n",
      "\n",
      " Exactitud:     0.6200\n",
      " Precisión:     0.2667\n",
      " Sensibilidad:  0.3333\n",
      " Especificidad: 0.7105\n",
      " Valor F1:      0.2963\n",
      " Tasa FP:       0.2895\n"
     ]
    }
   ],
   "source": [
    "metricas_matriz_confusion(y, df[\"prediccion\"])"
   ]
  },
  {
   "cell_type": "markdown",
   "metadata": {},
   "source": [
    "Exactitud (Accuracy): 0.62\n",
    "→ El modelo acierta en el 62% de los casos.\n",
    "\n",
    "Precisión (Precision): 0.2667\n",
    "→ De todas las veces que predijo crisis, solo el 26.67% fueron correctas.\n",
    "\n",
    "Sensibilidad (Recall): 0.3333\n",
    "→ El modelo detecta el 33.33% de las crisis reales.\n",
    "\n",
    "Especificidad: 0.7105\n",
    "→ El 71.05% de los casos sin crisis fueron correctamente identificados.\n",
    "\n",
    "Valor F1: 0.2963\n",
    "→ Promedio armónico entre precisión y sensibilidad, bajo debido al desequilibrio.\n",
    "\n",
    "Tasa de falsos positivos (FPR): 0.2895\n",
    "→ El 28.95% de los casos sin crisis fueron clasificados erróneamente como crisis.\n",
    "\n",
    "El modelo muestra un rendimiento limitado, con una precisión y sensibilidad bajas, lo que indica dificultades para identificar correctamente los casos de crisis. Sin embargo, su especificidad es aceptable, lo que sugiere que es más confiable para detectar la ausencia de crisis. Estas métricas reflejan un desequilibrio en la clasificación, posiblemente influenciado por una distribución desigual de clases en los datos."
   ]
  },
  {
   "cell_type": "code",
   "execution_count": 16,
   "metadata": {},
   "outputs": [
    {
     "data": {
      "text/html": [
       "<a href='Economia25.xlsx' target='_blank'>Economia25.xlsx</a><br>"
      ],
      "text/plain": [
       "c:\\Users\\Marlon\\Downloads\\Economia25.xlsx"
      ]
     },
     "execution_count": 16,
     "metadata": {},
     "output_type": "execute_result"
    }
   ],
   "source": [
    "df.to_excel(\"Economia25.xlsx\", index=False, engine='openpyxl')\n",
    "\n",
    "# Generar enlace de descarga\n",
    "from IPython.display import FileLink\n",
    "FileLink(\"Economia25.xlsx\") "
   ]
  }
 ],
 "metadata": {
  "kernelspec": {
   "display_name": "Python 3",
   "language": "python",
   "name": "python3"
  },
  "language_info": {
   "codemirror_mode": {
    "name": "ipython",
    "version": 3
   },
   "file_extension": ".py",
   "mimetype": "text/x-python",
   "name": "python",
   "nbconvert_exporter": "python",
   "pygments_lexer": "ipython3",
   "version": "3.13.5"
  }
 },
 "nbformat": 4,
 "nbformat_minor": 4
}
